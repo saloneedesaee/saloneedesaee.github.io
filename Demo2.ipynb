%matplotlib inline
from dask.diagnostics import ProgressBar
progress_bar = ProgressBar()
progress_bar.register()
import dask.dataframe as dd
df = dd.demo.make_timeseries(start='2000', end='2015', dtypes={'A': float, 'B': int},
                             freq='5s', partition_freq='3M', seed=1234)
df.A.cumsum().resample('1w').mean().compute().plot();
